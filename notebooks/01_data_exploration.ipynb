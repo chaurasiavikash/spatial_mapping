{
 "cells": [
  {
   "cell_type": "code",
   "execution_count": null,
   "id": "0407bf2b",
   "metadata": {},
   "outputs": [
    {
     "data": {
      "text/plain": [
       "'\\n{\\n \"cells\": [\\n  {\\n   \"cell_type\": \"markdown\",\\n   \"metadata\": {},\\n   \"source\": [\\n    \"# Detection Algorithm Development\\n\",\\n    \"\\n\",\\n    \"This notebook demonstrates the development and tuning of the methane hotspot detection algorithm.\"\\n   ]\\n  },\\n  {\\n   \"cell_type\": \"code\",\\n   \"execution_count\": null,\\n   \"metadata\": {},\\n   \"outputs\": [],\\n   \"source\": [\\n    \"import sys\\n\",\\n    \"sys.path.append(\\'../src\\')\\n\",\\n    \"\\n\",\\n    \"import numpy as np\\n\",\\n    \"import matplotlib.pyplot as plt\\n\",\\n    \"from detection.anomaly_detector import MethaneAnomalyDetector\\n\",\\n    \"\\n\",\\n    \"# Load test data and run algorithm development...\"\\n   ]\\n  }\\n ],\\n \"metadata\": {\\n  \"kernelspec\": {\\n   \"display_name\": \"Python 3\",\\n   \"language\": \"python\",\\n   \"name\": \"python3\"\\n  }\\n },\\n \"nbformat\": 4,\\n \"nbformat_minor\": 4\\n}\\n'"
      ]
     },
     "execution_count": 1,
     "metadata": {},
     "output_type": "execute_result"
    }
   ],
   "source": []
  }
 ],
 "metadata": {
  "kernelspec": {
   "display_name": "tropomi-pipeline",
   "language": "python",
   "name": "python3"
  },
  "language_info": {
   "codemirror_mode": {
    "name": "ipython",
    "version": 3
   },
   "file_extension": ".py",
   "mimetype": "text/x-python",
   "name": "python",
   "nbconvert_exporter": "python",
   "pygments_lexer": "ipython3",
   "version": "3.9.21"
  }
 },
 "nbformat": 4,
 "nbformat_minor": 5
}
